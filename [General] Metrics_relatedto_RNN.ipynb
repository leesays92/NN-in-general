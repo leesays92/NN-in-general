{
 "cells": [
  {
   "cell_type": "markdown",
   "metadata": {},
   "source": [
    "__Reference__\n",
    "\n",
    "- https://brunch.co.kr/@chris-song/34 \n",
    "- https://towardsdatascience.com/how-to-select-the-right-evaluation-metric-for-machine-learning-models-part-1-regrression-metrics-3606e25beae0\n",
    "- https://partrita.github.io/posts/regression-error/\n",
    "- [Dive into Deeplearning] 8.4.4. Recurrent Neural Network > Perplexity\n",
    "- https://github.com/dsgiitr/d2l-pytorch/blob/master/Ch10_Recurrent_Neural_Networks/Implementation_of_Recurrent_Neural_Networks_from_Scratch.ipynb"
   ]
  },
  {
   "cell_type": "markdown",
   "metadata": {},
   "source": [
    "# 1. Regression Metrics\n",
    "\n",
    "![image](https://user-images.githubusercontent.com/48466625/64686592-dc39d680-d4c3-11e9-8aef-87ef2040f488.png)"
   ]
  },
  {
   "cell_type": "markdown",
   "metadata": {},
   "source": [
    "## 1.1. MSE, RMSE\n",
    "\n",
    "![image](https://user-images.githubusercontent.com/48466625/64685719-68e39500-d4c2-11e9-881c-b8335a50c239.png)\n",
    "- Mean Squared Error and Root Mean Squared Error(=Standard Deviation)\n",
    "- Scale-dependent Error : 크기 의존적 에러"
   ]
  },
  {
   "cell_type": "markdown",
   "metadata": {},
   "source": [
    "## 1.2. MAE\n",
    "\n",
    "![image](https://user-images.githubusercontent.com/48466625/64686684-0390a380-d4c4-11e9-823b-589ea7cfe7f9.png)\n",
    "\n",
    "- Mean Absoulte Error\n",
    "- 예측과 실제값 차이를 모두 더함\n",
    "  - 절대값을 취하기 때문에 underperformance인지, overperformance인지 알 수 없음\n",
    "  - Under~ : 예측값이 실제값보다 낮음, Over~ : 예측값이 실제값보다 높음"
   ]
  },
  {
   "cell_type": "markdown",
   "metadata": {},
   "source": [
    "## 1.3. MAPE\n",
    "\n",
    "![image](https://user-images.githubusercontent.com/48466625/64686903-6c781b80-d4c4-11e9-8d2a-433fbbff6ac1.png)\n",
    "\n",
    "- Mean Absolute Percentage Error\n",
    "- 크기에 의존하는 에러의 단점을 보완하지만, $y$가 1보다 작다면 너무 크게 나오는 단점이 있음"
   ]
  },
  {
   "cell_type": "markdown",
   "metadata": {},
   "source": [
    "## 1.4. MPE\n",
    "\n",
    "![image](https://user-images.githubusercontent.com/48466625/64686991-929dbb80-d4c4-11e9-99fe-55072b945762.png)\n",
    "\n",
    "- Mean Percentage Error\n",
    "- MAPE에서 절대값을 제외한 지표.\n",
    "  - 모델의 underperformance, overperformance 판단 가능"
   ]
  },
  {
   "cell_type": "markdown",
   "metadata": {},
   "source": [
    "# Perplexity\n",
    "\n",
    "- NLP분야에서 많이쓰는 Sequence model의 성능 지표 중의 하나, <span class=\"mark\">Perplexity (PPL)</span>\n",
    "\n",
    "![image](https://user-images.githubusercontent.com/48466625/64683902-1785d680-d4bf-11e9-9a55-c7b419aff754.png)\n",
    "![image](https://user-images.githubusercontent.com/48466625/64684325-dfcb5e80-d4bf-11e9-8a0c-11c1a0eefd50.png)\n",
    "\n",
    "- PPL은 단어의 수로 정규화(normalization) 된 테스트 데이터에 대한 확률의 역수\n",
    "  - 낮을 수록 언어 모델의 성능이 좋은데,\n",
    "  - PPL을 최소화한다는 것은 문장의 확률을 최대화하는 것과 같음.\n",
    "  - $W$ : 문장\n",
    "  - $N$ : 문장 길이\n",
    "- <span class=\"mark\">exp 달린 것을 보면, PPL는 이는 CrossEntropyLoss의 합을 n으로 나눈 것이다.</span>\n",
    "  - <span class=\"mark\">PPL : exponentiated average of the cross-entropy loss</span>"
   ]
  }
 ],
 "metadata": {
  "gist": {
   "data": {
    "description": "Seq2Seq.ipynb",
    "public": true
   },
   "id": ""
  },
  "kernelspec": {
   "display_name": "Python 3",
   "language": "python",
   "name": "python3"
  },
  "language_info": {
   "codemirror_mode": {
    "name": "ipython",
    "version": 3
   },
   "file_extension": ".py",
   "mimetype": "text/x-python",
   "name": "python",
   "nbconvert_exporter": "python",
   "pygments_lexer": "ipython3",
   "version": "3.7.2"
  },
  "toc": {
   "base_numbering": 1,
   "nav_menu": {},
   "number_sections": true,
   "sideBar": true,
   "skip_h1_title": false,
   "title_cell": "Table of Contents",
   "title_sidebar": "Contents",
   "toc_cell": false,
   "toc_position": {
    "height": "calc(100% - 180px)",
    "left": "10px",
    "top": "150px",
    "width": "349.078px"
   },
   "toc_section_display": true,
   "toc_window_display": false
  },
  "varInspector": {
   "cols": {
    "lenName": 16,
    "lenType": 16,
    "lenVar": 40
   },
   "kernels_config": {
    "python": {
     "delete_cmd_postfix": "",
     "delete_cmd_prefix": "del ",
     "library": "var_list.py",
     "varRefreshCmd": "print(var_dic_list())"
    },
    "r": {
     "delete_cmd_postfix": ") ",
     "delete_cmd_prefix": "rm(",
     "library": "var_list.r",
     "varRefreshCmd": "cat(var_dic_list()) "
    }
   },
   "types_to_exclude": [
    "module",
    "function",
    "builtin_function_or_method",
    "instance",
    "_Feature"
   ],
   "window_display": false
  }
 },
 "nbformat": 4,
 "nbformat_minor": 2
}
