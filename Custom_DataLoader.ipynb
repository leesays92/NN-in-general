{
 "cells": [
  {
   "cell_type": "markdown",
   "metadata": {},
   "source": [
    "__References__\n",
    "    \n",
    "- https://github.com/newhiwoong/PyTorch/blob/master/06_Batch_Training.ipynb\n",
    "- https://wingnim.tistory.com/33"
   ]
  },
  {
   "cell_type": "markdown",
   "metadata": {},
   "source": [
    "# Custom Dataset 만들기\n",
    "- class my_dataset(torch.utils.data.Dataset):\n",
    "  - def __init__(self, 내가 필요한 것들)\n",
    "    - 데이터 가져오기\n",
    "    - 전처리\n",
    "    - 다운로드 등\n",
    "  - def __len__(self)\n",
    "    - 데이터셋의 사이즈를 넘겨주는 파트(길이)\n",
    "  - def __getitem__(self, idx)\n",
    "    - 데이터셋에서 한개의 데이터를 가져오는 함수를 정의한다"
   ]
  },
  {
   "cell_type": "code",
   "execution_count": 12,
   "metadata": {},
   "outputs": [],
   "source": [
    "import torch\n",
    "from torch.utils.data import Dataset\n",
    "from torch.utils.data import DataLoader"
   ]
  },
  {
   "cell_type": "code",
   "execution_count": 246,
   "metadata": {},
   "outputs": [],
   "source": [
    "data = np.load('./data/hilbert_300_normal_train/drive_de_ball_1.npy')"
   ]
  },
  {
   "cell_type": "code",
   "execution_count": 247,
   "metadata": {},
   "outputs": [
    {
     "name": "stdout",
     "output_type": "stream",
     "text": [
      "train: (100, 50, 50)\n"
     ]
    }
   ],
   "source": [
    "print('train:', data.shape)"
   ]
  },
  {
   "cell_type": "code",
   "execution_count": 248,
   "metadata": {},
   "outputs": [
    {
     "name": "stdout",
     "output_type": "stream",
     "text": [
      "[[-0.07309581  0.02501501  0.00406088 ... -0.12686184 -0.04515697\n",
      "  -0.03216216]\n",
      " [-0.04353261  0.08495357  0.02582719 ...  0.10103465 -0.03248703\n",
      "  -0.12978567]\n",
      " [ 0.06107561  0.10980615 -0.05003002 ...  0.02241605  0.03443625\n",
      "  -0.09453725]\n",
      " ...\n",
      " [ 0.1539885  -0.04385749  0.00519792 ...  0.04954271  0.07049685\n",
      "   0.02339066]\n",
      " [ 0.10899397  0.11402946  0.04970515 ... -0.11305485 -0.04564427\n",
      "  -0.01510647]\n",
      " [-0.03524842  0.01396942  0.03979661 ...  0.10671988  0.10736962\n",
      "   0.1179279 ]]\n"
     ]
    },
    {
     "data": {
      "image/png": "[encoded data removed]",
      "text/plain": [
       "<Figure size 432x288 with 1 Axes>"
      ]
     },
     "metadata": {
      "needs_background": "light"
     },
     "output_type": "display_data"
    }
   ],
   "source": [
    "plt.imshow(data[50]) ; print(data[50])"
   ]
  },
  {
   "cell_type": "markdown",
   "metadata": {},
   "source": [
    "--------------"
   ]
  },
  {
   "cell_type": "code",
   "execution_count": 165,
   "metadata": {},
   "outputs": [],
   "source": [
    "ex2 = torch.from_numpy(data).float() # 이렇게해야 torch.float32 데이터 타입으로 바뀐다."
   ]
  },
  {
   "cell_type": "code",
   "execution_count": 186,
   "metadata": {},
   "outputs": [
    {
     "data": {
      "text/plain": [
       "torch.Size([100, 50, 50])"
      ]
     },
     "execution_count": 186,
     "metadata": {},
     "output_type": "execute_result"
    }
   ],
   "source": [
    "ex2.shape"
   ]
  },
  {
   "cell_type": "code",
   "execution_count": 240,
   "metadata": {},
   "outputs": [
    {
     "data": {
      "text/plain": [
       "tensor([[ 0.0942, -0.0931, -0.0419,  ..., -0.0177,  0.1395,  0.1493],\n",
       "        [-0.0908, -0.1421,  0.0820,  ..., -0.0869, -0.0614, -0.0010],\n",
       "        [-0.0193,  0.0057, -0.0149,  ..., -0.0778,  0.0257, -0.1314],\n",
       "        ...,\n",
       "        [-0.1273,  0.0499, -0.0240,  ...,  0.1241,  0.0263,  0.0637],\n",
       "        [ 0.1455,  0.0879,  0.0398,  ...,  0.0070,  0.0197, -0.0185],\n",
       "        [ 0.0478,  0.0975,  0.0006,  ..., -0.1296, -0.0469,  0.0315]])"
      ]
     },
     "execution_count": 240,
     "metadata": {},
     "output_type": "execute_result"
    }
   ],
   "source": [
    "idx = np.random.randint(0,100)\n",
    "\n",
    "ex2[idx]"
   ]
  },
  {
   "cell_type": "code",
   "execution_count": 188,
   "metadata": {},
   "outputs": [
    {
     "data": {
      "text/plain": [
       "torch.Size([50, 50])"
      ]
     },
     "execution_count": 188,
     "metadata": {},
     "output_type": "execute_result"
    }
   ],
   "source": [
    "ex2[20].shape"
   ]
  },
  {
   "cell_type": "code",
   "execution_count": 189,
   "metadata": {},
   "outputs": [
    {
     "data": {
      "text/plain": [
       "100"
      ]
     },
     "execution_count": 189,
     "metadata": {},
     "output_type": "execute_result"
    }
   ],
   "source": [
    "len(ex2)"
   ]
  },
  {
   "cell_type": "markdown",
   "metadata": {},
   "source": [
    "------------"
   ]
  },
  {
   "cell_type": "code",
   "execution_count": 266,
   "metadata": {},
   "outputs": [],
   "source": [
    "class MyDataset(Dataset):\n",
    "    def __init__(self):\n",
    "        data = np.load('./data/hilbert_300_normal_train/drive_de_ball_1.npy')\n",
    "        self.train = torch.from_numpy(data).float()\n",
    "        \n",
    "    def __getitem__(self, index):\n",
    "        x = self.train[index]\n",
    "        return x\n",
    "        \n",
    "    def __len__(self):\n",
    "        return len(self.train)"
   ]
  },
  {
   "cell_type": "code",
   "execution_count": 267,
   "metadata": {},
   "outputs": [],
   "source": [
    "dataset = MyDataset()"
   ]
  },
  {
   "cell_type": "code",
   "execution_count": 268,
   "metadata": {},
   "outputs": [],
   "source": [
    "train_loader = DataLoader(dataset=dataset,\n",
    "                         batch_size=10, shuffle=True)"
   ]
  },
  {
   "cell_type": "code",
   "execution_count": 282,
   "metadata": {
    "scrolled": true
   },
   "outputs": [
    {
     "name": "stdout",
     "output_type": "stream",
     "text": [
      "torch.Size([10, 50, 50])\n"
     ]
    }
   ],
   "source": [
    "i1= next(iter(train_loader))\n",
    "print(i1.shape)"
   ]
  },
  {
   "cell_type": "code",
   "execution_count": 288,
   "metadata": {},
   "outputs": [
    {
     "name": "stdout",
     "output_type": "stream",
     "text": [
      "0\n",
      "torch.Size([10, 50, 50])\n",
      "1\n",
      "torch.Size([10, 50, 50])\n",
      "2\n",
      "torch.Size([10, 50, 50])\n",
      "3\n",
      "torch.Size([10, 50, 50])\n",
      "4\n",
      "torch.Size([10, 50, 50])\n",
      "5\n",
      "torch.Size([10, 50, 50])\n",
      "6\n",
      "torch.Size([10, 50, 50])\n",
      "7\n",
      "torch.Size([10, 50, 50])\n",
      "8\n",
      "torch.Size([10, 50, 50])\n",
      "9\n",
      "torch.Size([10, 50, 50])\n"
     ]
    }
   ],
   "source": [
    "for i, data in enumerate(train_loader):\n",
    "    print(i)\n",
    "    print(data.shape)"
   ]
  }
 ],
 "metadata": {
  "kernelspec": {
   "display_name": "Python 3",
   "language": "python",
   "name": "python3"
  },
  "language_info": {
   "codemirror_mode": {
    "name": "ipython",
    "version": 3
   },
   "file_extension": ".py",
   "mimetype": "text/x-python",
   "name": "python",
   "nbconvert_exporter": "python",
   "pygments_lexer": "ipython3",
   "version": "3.7.2"
  },
  "toc": {
   "base_numbering": 1,
   "nav_menu": {},
   "number_sections": true,
   "sideBar": true,
   "skip_h1_title": false,
   "title_cell": "Table of Contents",
   "title_sidebar": "Contents",
   "toc_cell": false,
   "toc_position": {},
   "toc_section_display": true,
   "toc_window_display": false
  },
  "varInspector": {
   "cols": {
    "lenName": 16,
    "lenType": 16,
    "lenVar": 40
   },
   "kernels_config": {
    "python": {
     "delete_cmd_postfix": "",
     "delete_cmd_prefix": "del ",
     "library": "var_list.py",
     "varRefreshCmd": "print(var_dic_list())"
    },
    "r": {
     "delete_cmd_postfix": ") ",
     "delete_cmd_prefix": "rm(",
     "library": "var_list.r",
     "varRefreshCmd": "cat(var_dic_list()) "
    }
   },
   "types_to_exclude": [
    "module",
    "function",
    "builtin_function_or_method",
    "instance",
    "_Feature"
   ],
   "window_display": false
  }
 },
 "nbformat": 4,
 "nbformat_minor": 2
}
