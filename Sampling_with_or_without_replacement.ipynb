{
 "cells": [
  {
   "cell_type": "markdown",
   "metadata": {},
   "source": [
    "# 1. Theoretical analysis\n",
    "\n",
    "- 랜덤 샘플링 기반으로 iteration을 돌릴때 복원 추출/비복원 추출에 대한 이론적인 백그라운드 \n",
    "  - <span class=\"girk\">Beneath the valley of the noncommutative arithmetic-geometric mean inequality: conjectures, case-studies, and consequences.</span>\n",
    "  - <span class=\"girk\">Without-Replacement Sampling for Stochastic Gradient Methods</span>"
   ]
  },
  {
   "attachments": {},
   "cell_type": "markdown",
   "metadata": {},
   "source": [
    "## 1.1. Outline\n",
    "\n",
    "- <span class=\"mark\">비복원 추출이 복원 추출보다 더 빠른 수렴을 가져온다.</span>\n",
    "![image](https://user-images.githubusercontent.com/48466625/63915104-1771e980-ca70-11e9-94a8-f252059d96e5.png)\n",
    "\n",
    "- 위와 같은 Loss function을 최적화하고 싶다고한다면, 이는 주어진 $y_i$의 $N$개의 label에 대한 optimal $x$를 찾고싶은 것\n",
    "\n",
    "![image](https://user-images.githubusercontent.com/48466625/63915201-5d2eb200-ca70-11e9-884c-9bdd3951e47b.png)\n",
    "\n",
    "- Optimal $x$를 찾기 위해, 목적함수를 미분해서 0이되는 값을 찾게 된다. \n",
    "  - 이때 optimal soultion은 <span class=\"mark\">$y$의 $N$ samples에 대한 평균값일 것.</span>\n",
    "\n",
    "![image](https://user-images.githubusercontent.com/48466625/63915310-a121b700-ca70-11e9-84c5-f35796b565db.png)\n",
    "\n",
    "- 한번에 계산을 할 수 없다면, Gradient Descent를 통해 recursive하게 해를 찾아야 하는데,\n",
    "  - $i = 1,2,...,N$까지 실행할때, 아래 마지막 식은 samples의 평균값이 되기 때문에 최적의 해를 찾았다고 볼 수 있다.\n",
    "  \n",
    "  ![image](https://user-images.githubusercontent.com/48466625/63915474-286f2a80-ca71-11e9-8340-9b93eacd9442.png)\n",
    "  ![image](https://user-images.githubusercontent.com/48466625/63915486-31f89280-ca71-11e9-9780-c1f68affeae9.png)\n",
    "  \n",
    "  - 복원추출을 하게 되면, 배치마다의 관계가 독립적이기 때문에 optimized value $x_N$은 여기서 정답인 sample mean과 다르며 오차가 있을 것.\n",
    "  \n",
    "  ![image](https://user-images.githubusercontent.com/48466625/63915786-dbd81f00-ca71-11e9-8858-8a5ef0d60731.png)\n"
   ]
  },
  {
   "cell_type": "markdown",
   "metadata": {},
   "source": [
    "# 2. Example"
   ]
  },
  {
   "cell_type": "code",
   "execution_count": 1,
   "metadata": {
    "ExecuteTime": {
     "end_time": "2019-08-29T06:34:18.104451Z",
     "start_time": "2019-08-29T06:34:18.100461Z"
    }
   },
   "outputs": [],
   "source": [
    "################Sampling without replacement##################\n",
    "def SGD(self, training_data, epochs, mini_batch_size, eta, test_data=None):\n",
    "    n = len(training_data)\n",
    "    for j in range(epochs):\n",
    "        random.shuffle(training_data)\n",
    "        mini_batches = [training_data[k:k+mini_batch] for k in range(o, n, mini_batch_size)]\n",
    "        for mini_batch in mini_batches:\n",
    "            self.update_mini_batch(mini_batch, eta)"
   ]
  },
  {
   "cell_type": "code",
   "execution_count": 2,
   "metadata": {
    "ExecuteTime": {
     "end_time": "2019-08-29T06:36:24.962040Z",
     "start_time": "2019-08-29T06:36:24.957026Z"
    }
   },
   "outputs": [
    {
     "name": "stdout",
     "output_type": "stream",
     "text": [
      "['1', '2']\n",
      "['3', '4']\n",
      "['5', '6']\n",
      "['7', '8']\n",
      "['9', '10']\n"
     ]
    }
   ],
   "source": [
    "mylist = ['1','2','3','4','5','6','7','8','9','10']\n",
    "n = len(mylist)\n",
    "mini_batch_size = 2\n",
    "mini_batches = [mylist[k:k+mini_batch_size] for k in range(0, n, mini_batch_size)]\n",
    "for mini_batch in mini_batches:\n",
    "    print(mini_batch)"
   ]
  },
  {
   "cell_type": "code",
   "execution_count": 3,
   "metadata": {
    "ExecuteTime": {
     "end_time": "2019-08-29T06:36:34.108807Z",
     "start_time": "2019-08-29T06:36:34.104795Z"
    }
   },
   "outputs": [
    {
     "name": "stdout",
     "output_type": "stream",
     "text": [
      "['1', '2', '3']\n",
      "['4', '5', '6']\n",
      "['7', '8', '9']\n",
      "['10']\n"
     ]
    }
   ],
   "source": [
    "mylist = ['1','2','3','4','5','6','7','8','9','10']\n",
    "n = len(mylist)\n",
    "mini_batch_size = 3\n",
    "mini_batches = [mylist[k:k+mini_batch_size] for k in range(0, n, mini_batch_size)]\n",
    "for mini_batch in mini_batches:\n",
    "    print(mini_batch)"
   ]
  }
 ],
 "metadata": {
  "gist": {
   "data": {
    "description": "Seq2Seq.ipynb",
    "public": true
   },
   "id": ""
  },
  "kernelspec": {
   "display_name": "Python 3",
   "language": "python",
   "name": "python3"
  },
  "language_info": {
   "codemirror_mode": {
    "name": "ipython",
    "version": 3
   },
   "file_extension": ".py",
   "mimetype": "text/x-python",
   "name": "python",
   "nbconvert_exporter": "python",
   "pygments_lexer": "ipython3",
   "version": "3.7.2"
  },
  "toc": {
   "base_numbering": 1,
   "nav_menu": {},
   "number_sections": true,
   "sideBar": true,
   "skip_h1_title": false,
   "title_cell": "Table of Contents",
   "title_sidebar": "Contents",
   "toc_cell": false,
   "toc_position": {
    "height": "calc(100% - 180px)",
    "left": "10px",
    "top": "150px",
    "width": "349.091px"
   },
   "toc_section_display": true,
   "toc_window_display": true
  },
  "varInspector": {
   "cols": {
    "lenName": 16,
    "lenType": 16,
    "lenVar": 40
   },
   "kernels_config": {
    "python": {
     "delete_cmd_postfix": "",
     "delete_cmd_prefix": "del ",
     "library": "var_list.py",
     "varRefreshCmd": "print(var_dic_list())"
    },
    "r": {
     "delete_cmd_postfix": ") ",
     "delete_cmd_prefix": "rm(",
     "library": "var_list.r",
     "varRefreshCmd": "cat(var_dic_list()) "
    }
   },
   "types_to_exclude": [
    "module",
    "function",
    "builtin_function_or_method",
    "instance",
    "_Feature"
   ],
   "window_display": false
  }
 },
 "nbformat": 4,
 "nbformat_minor": 2
}
